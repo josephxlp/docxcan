{
 "cells": [
  {
   "cell_type": "code",
   "execution_count": 1,
   "id": "3a30f216",
   "metadata": {},
   "outputs": [],
   "source": [
    "import os "
   ]
  },
  {
   "cell_type": "code",
   "execution_count": 1,
   "id": "f07fad23",
   "metadata": {},
   "outputs": [],
   "source": [
    "#model_eff = \"spacy download en_core_web_sm\"\n",
    "#model_acc = \"spacy download en_core_web_trf\""
   ]
  },
  {
   "cell_type": "code",
   "execution_count": null,
   "id": "e31cf450",
   "metadata": {},
   "outputs": [],
   "source": [
    "#os.system(model_acc)"
   ]
  },
  {
   "cell_type": "code",
   "execution_count": 3,
   "id": "39c561b4",
   "metadata": {},
   "outputs": [],
   "source": [
    "import spacy\n",
    "# find the location of the models and their size"
   ]
  },
  {
   "cell_type": "code",
   "execution_count": 4,
   "id": "1f210a37",
   "metadata": {},
   "outputs": [
    {
     "name": "stderr",
     "output_type": "stream",
     "text": [
      "c:\\Users\\Joseph\\miniforge3\\envs\\docxcan\\lib\\site-packages\\tqdm\\auto.py:21: TqdmWarning: IProgress not found. Please update jupyter and ipywidgets. See https://ipywidgets.readthedocs.io/en/stable/user_install.html\n",
      "  from .autonotebook import tqdm as notebook_tqdm\n"
     ]
    }
   ],
   "source": [
    "model_acc = spacy.load('en_core_web_trf')"
   ]
  },
  {
   "cell_type": "code",
   "execution_count": 5,
   "id": "5b23f394",
   "metadata": {},
   "outputs": [],
   "source": [
    "model_eff =  spacy.load('en_core_web_sm')"
   ]
  },
  {
   "cell_type": "code",
   "execution_count": null,
   "id": "6b349765",
   "metadata": {},
   "outputs": [],
   "source": []
  }
 ],
 "metadata": {
  "kernelspec": {
   "display_name": "docxcan",
   "language": "python",
   "name": "python3"
  },
  "language_info": {
   "codemirror_mode": {
    "name": "ipython",
    "version": 3
   },
   "file_extension": ".py",
   "mimetype": "text/x-python",
   "name": "python",
   "nbconvert_exporter": "python",
   "pygments_lexer": "ipython3",
   "version": "3.10.0"
  }
 },
 "nbformat": 4,
 "nbformat_minor": 5
}
